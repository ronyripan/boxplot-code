{
 "cells": [
  {
   "cell_type": "code",
   "execution_count": 1,
   "metadata": {},
   "outputs": [],
   "source": [
    "import pandas as pd\n",
    "import numpy as np\n",
    "import matplotlib.pyplot as plt\n",
    "import seaborn as sns\n",
    "from scipy.spatial import distance\n",
    "from scipy.spatial.distance import cdist "
   ]
  },
  {
   "cell_type": "code",
   "execution_count": 3,
   "metadata": {},
   "outputs": [],
   "source": [
    "def boxplot(dist_list):\n",
    "    sort_score_zero = sorted(dist_list)\n",
    "    med1 = np.argwhere(sort_score_zero == np.percentile(sort_score_zero,50,interpolation='nearest'))\n",
    "    med1 = med1[0][0]\n",
    "    #print(med1)\n",
    "    firsthalf = sort_score_zero[0:med1+1]\n",
    "    lasthalf = sort_score_zero[med1+1:]\n",
    "    firsthalf = np.array(firsthalf)\n",
    "    lasthalf = np.array(lasthalf)\n",
    "    q1_index = np.argwhere(firsthalf == np.percentile(firsthalf,50,interpolation='nearest'))\n",
    "    #print(q1_index)\n",
    "    q1_index = q1_index[0][0]\n",
    "    q3_index = np.argwhere(lasthalf == np.percentile(lasthalf,50,interpolation='nearest'))\n",
    "    q3_index = q3_index[0][0]\n",
    "    q1 = firsthalf[q1_index]\n",
    "    q3 = lasthalf[q3_index]\n",
    "    #print(q1_index)\n",
    "    #print(q3_index)\n",
    "    IQR = q3 - q1\n",
    "    MaxT = q3 + 1.5 * IQR\n",
    "    MinT = q1 - 1.5 * IQR\n",
    "    return ((MaxT,MinT))"
   ]
  },
  {
   "cell_type": "code",
   "execution_count": 5,
   "metadata": {},
   "outputs": [
    {
     "name": "stdout",
     "output_type": "stream",
     "text": [
      "42.0 18.0\n"
     ]
    }
   ],
   "source": [
    "MaxT, MinT = boxplot([25,29,3,32,85,33,27,28])\n",
    "print(MaxT,MinT)"
   ]
  },
  {
   "cell_type": "code",
   "execution_count": 8,
   "metadata": {},
   "outputs": [
    {
     "data": {
      "text/plain": [
       "<matplotlib.axes._subplots.AxesSubplot at 0x21d90a62ec8>"
      ]
     },
     "execution_count": 8,
     "metadata": {},
     "output_type": "execute_result"
    },
    {
     "data": {
      "image/png": "[encoded data removed]",
      "text/plain": [
       "<Figure size 432x288 with 1 Axes>"
      ]
     },
     "metadata": {
      "needs_background": "light"
     },
     "output_type": "display_data"
    }
   ],
   "source": [
    "#graphical representation of boxplot\n",
    "sns.boxplot(y=[25,29,3,32,85,33,27,28],palette = 'winter')"
   ]
  }
 ],
 "metadata": {
  "kernelspec": {
   "display_name": "Python 3",
   "language": "python",
   "name": "python3"
  },
  "language_info": {
   "codemirror_mode": {
    "name": "ipython",
    "version": 3
   },
   "file_extension": ".py",
   "mimetype": "text/x-python",
   "name": "python",
   "nbconvert_exporter": "python",
   "pygments_lexer": "ipython3",
   "version": "3.7.6"
  }
 },
 "nbformat": 4,
 "nbformat_minor": 4
}
